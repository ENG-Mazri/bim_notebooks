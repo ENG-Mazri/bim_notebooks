{
  "nbformat": 4,
  "nbformat_minor": 0,
  "metadata": {
    "colab": {
      "provenance": []
    },
    "kernelspec": {
      "name": "python3",
      "display_name": "Python 3"
    },
    "language_info": {
      "name": "python"
    }
  },
  "cells": [
    {
      "cell_type": "markdown",
      "source": [
        "#🛠️ IFC Property Extractor"
      ],
      "metadata": {
        "id": "vaRgm77CQg9o"
      }
    },
    {
      "cell_type": "markdown",
      "source": [
        "**Install dependencies**\n"
      ],
      "metadata": {
        "id": "B2niG_sPFgMK"
      }
    },
    {
      "cell_type": "code",
      "execution_count": 2,
      "metadata": {
        "colab": {
          "base_uri": "https://localhost:8080/"
        },
        "collapsed": true,
        "id": "EotXrCyCE8WO",
        "outputId": "119a5ff4-7f66-4608-d627-deaa5fb27215"
      },
      "outputs": [
        {
          "output_type": "stream",
          "name": "stdout",
          "text": [
            "Collecting gradio\n",
            "  Downloading gradio-5.26.0-py3-none-any.whl.metadata (16 kB)\n",
            "Requirement already satisfied: huggingface_hub in /usr/local/lib/python3.11/dist-packages (0.30.2)\n",
            "Collecting ifcopenshell\n",
            "  Downloading ifcopenshell-0.8.2-py311-none-manylinux_2_31_x86_64.whl.metadata (11 kB)\n",
            "Requirement already satisfied: pandas in /usr/local/lib/python3.11/dist-packages (2.2.2)\n",
            "Collecting aiofiles<25.0,>=22.0 (from gradio)\n",
            "  Downloading aiofiles-24.1.0-py3-none-any.whl.metadata (10 kB)\n",
            "Requirement already satisfied: anyio<5.0,>=3.0 in /usr/local/lib/python3.11/dist-packages (from gradio) (4.9.0)\n",
            "Collecting fastapi<1.0,>=0.115.2 (from gradio)\n",
            "  Downloading fastapi-0.115.12-py3-none-any.whl.metadata (27 kB)\n",
            "Collecting ffmpy (from gradio)\n",
            "  Downloading ffmpy-0.5.0-py3-none-any.whl.metadata (3.0 kB)\n",
            "Collecting gradio-client==1.9.0 (from gradio)\n",
            "  Downloading gradio_client-1.9.0-py3-none-any.whl.metadata (7.1 kB)\n",
            "Collecting groovy~=0.1 (from gradio)\n",
            "  Downloading groovy-0.1.2-py3-none-any.whl.metadata (6.1 kB)\n",
            "Requirement already satisfied: httpx>=0.24.1 in /usr/local/lib/python3.11/dist-packages (from gradio) (0.28.1)\n",
            "Requirement already satisfied: jinja2<4.0 in /usr/local/lib/python3.11/dist-packages (from gradio) (3.1.6)\n",
            "Requirement already satisfied: markupsafe<4.0,>=2.0 in /usr/local/lib/python3.11/dist-packages (from gradio) (3.0.2)\n",
            "Requirement already satisfied: numpy<3.0,>=1.0 in /usr/local/lib/python3.11/dist-packages (from gradio) (2.0.2)\n",
            "Requirement already satisfied: orjson~=3.0 in /usr/local/lib/python3.11/dist-packages (from gradio) (3.10.16)\n",
            "Requirement already satisfied: packaging in /usr/local/lib/python3.11/dist-packages (from gradio) (24.2)\n",
            "Requirement already satisfied: pillow<12.0,>=8.0 in /usr/local/lib/python3.11/dist-packages (from gradio) (11.1.0)\n",
            "Requirement already satisfied: pydantic<2.12,>=2.0 in /usr/local/lib/python3.11/dist-packages (from gradio) (2.11.3)\n",
            "Collecting pydub (from gradio)\n",
            "  Downloading pydub-0.25.1-py2.py3-none-any.whl.metadata (1.4 kB)\n",
            "Collecting python-multipart>=0.0.18 (from gradio)\n",
            "  Downloading python_multipart-0.0.20-py3-none-any.whl.metadata (1.8 kB)\n",
            "Requirement already satisfied: pyyaml<7.0,>=5.0 in /usr/local/lib/python3.11/dist-packages (from gradio) (6.0.2)\n",
            "Collecting ruff>=0.9.3 (from gradio)\n",
            "  Downloading ruff-0.11.6-py3-none-manylinux_2_17_x86_64.manylinux2014_x86_64.whl.metadata (25 kB)\n",
            "Collecting safehttpx<0.2.0,>=0.1.6 (from gradio)\n",
            "  Downloading safehttpx-0.1.6-py3-none-any.whl.metadata (4.2 kB)\n",
            "Collecting semantic-version~=2.0 (from gradio)\n",
            "  Downloading semantic_version-2.10.0-py2.py3-none-any.whl.metadata (9.7 kB)\n",
            "Collecting starlette<1.0,>=0.40.0 (from gradio)\n",
            "  Downloading starlette-0.46.2-py3-none-any.whl.metadata (6.2 kB)\n",
            "Collecting tomlkit<0.14.0,>=0.12.0 (from gradio)\n",
            "  Downloading tomlkit-0.13.2-py3-none-any.whl.metadata (2.7 kB)\n",
            "Requirement already satisfied: typer<1.0,>=0.12 in /usr/local/lib/python3.11/dist-packages (from gradio) (0.15.2)\n",
            "Requirement already satisfied: typing-extensions~=4.0 in /usr/local/lib/python3.11/dist-packages (from gradio) (4.13.2)\n",
            "Collecting uvicorn>=0.14.0 (from gradio)\n",
            "  Downloading uvicorn-0.34.2-py3-none-any.whl.metadata (6.5 kB)\n",
            "Requirement already satisfied: fsspec in /usr/local/lib/python3.11/dist-packages (from gradio-client==1.9.0->gradio) (2025.3.2)\n",
            "Requirement already satisfied: websockets<16.0,>=10.0 in /usr/local/lib/python3.11/dist-packages (from gradio-client==1.9.0->gradio) (15.0.1)\n",
            "Requirement already satisfied: filelock in /usr/local/lib/python3.11/dist-packages (from huggingface_hub) (3.18.0)\n",
            "Requirement already satisfied: requests in /usr/local/lib/python3.11/dist-packages (from huggingface_hub) (2.32.3)\n",
            "Requirement already satisfied: tqdm>=4.42.1 in /usr/local/lib/python3.11/dist-packages (from huggingface_hub) (4.67.1)\n",
            "Requirement already satisfied: shapely in /usr/local/lib/python3.11/dist-packages (from ifcopenshell) (2.1.0)\n",
            "Collecting isodate (from ifcopenshell)\n",
            "  Downloading isodate-0.7.2-py3-none-any.whl.metadata (11 kB)\n",
            "Requirement already satisfied: python-dateutil in /usr/local/lib/python3.11/dist-packages (from ifcopenshell) (2.8.2)\n",
            "Collecting lark (from ifcopenshell)\n",
            "  Downloading lark-1.2.2-py3-none-any.whl.metadata (1.8 kB)\n",
            "Requirement already satisfied: pytz>=2020.1 in /usr/local/lib/python3.11/dist-packages (from pandas) (2025.2)\n",
            "Requirement already satisfied: tzdata>=2022.7 in /usr/local/lib/python3.11/dist-packages (from pandas) (2025.2)\n",
            "Requirement already satisfied: idna>=2.8 in /usr/local/lib/python3.11/dist-packages (from anyio<5.0,>=3.0->gradio) (3.10)\n",
            "Requirement already satisfied: sniffio>=1.1 in /usr/local/lib/python3.11/dist-packages (from anyio<5.0,>=3.0->gradio) (1.3.1)\n",
            "Requirement already satisfied: certifi in /usr/local/lib/python3.11/dist-packages (from httpx>=0.24.1->gradio) (2025.1.31)\n",
            "Requirement already satisfied: httpcore==1.* in /usr/local/lib/python3.11/dist-packages (from httpx>=0.24.1->gradio) (1.0.8)\n",
            "Requirement already satisfied: h11<0.15,>=0.13 in /usr/local/lib/python3.11/dist-packages (from httpcore==1.*->httpx>=0.24.1->gradio) (0.14.0)\n",
            "Requirement already satisfied: annotated-types>=0.6.0 in /usr/local/lib/python3.11/dist-packages (from pydantic<2.12,>=2.0->gradio) (0.7.0)\n",
            "Requirement already satisfied: pydantic-core==2.33.1 in /usr/local/lib/python3.11/dist-packages (from pydantic<2.12,>=2.0->gradio) (2.33.1)\n",
            "Requirement already satisfied: typing-inspection>=0.4.0 in /usr/local/lib/python3.11/dist-packages (from pydantic<2.12,>=2.0->gradio) (0.4.0)\n",
            "Requirement already satisfied: six>=1.5 in /usr/local/lib/python3.11/dist-packages (from python-dateutil->ifcopenshell) (1.17.0)\n",
            "Requirement already satisfied: click>=8.0.0 in /usr/local/lib/python3.11/dist-packages (from typer<1.0,>=0.12->gradio) (8.1.8)\n",
            "Requirement already satisfied: shellingham>=1.3.0 in /usr/local/lib/python3.11/dist-packages (from typer<1.0,>=0.12->gradio) (1.5.4)\n",
            "Requirement already satisfied: rich>=10.11.0 in /usr/local/lib/python3.11/dist-packages (from typer<1.0,>=0.12->gradio) (13.9.4)\n",
            "Requirement already satisfied: charset-normalizer<4,>=2 in /usr/local/lib/python3.11/dist-packages (from requests->huggingface_hub) (3.4.1)\n",
            "Requirement already satisfied: urllib3<3,>=1.21.1 in /usr/local/lib/python3.11/dist-packages (from requests->huggingface_hub) (2.3.0)\n",
            "Requirement already satisfied: markdown-it-py>=2.2.0 in /usr/local/lib/python3.11/dist-packages (from rich>=10.11.0->typer<1.0,>=0.12->gradio) (3.0.0)\n",
            "Requirement already satisfied: pygments<3.0.0,>=2.13.0 in /usr/local/lib/python3.11/dist-packages (from rich>=10.11.0->typer<1.0,>=0.12->gradio) (2.18.0)\n",
            "Requirement already satisfied: mdurl~=0.1 in /usr/local/lib/python3.11/dist-packages (from markdown-it-py>=2.2.0->rich>=10.11.0->typer<1.0,>=0.12->gradio) (0.1.2)\n",
            "Downloading gradio-5.26.0-py3-none-any.whl (46.9 MB)\n",
            "\u001b[2K   \u001b[90m━━━━━━━━━━━━━━━━━━━━━━━━━━━━━━━━━━━━━━━━\u001b[0m \u001b[32m46.9/46.9 MB\u001b[0m \u001b[31m19.7 MB/s\u001b[0m eta \u001b[36m0:00:00\u001b[0m\n",
            "\u001b[?25hDownloading gradio_client-1.9.0-py3-none-any.whl (322 kB)\n",
            "\u001b[2K   \u001b[90m━━━━━━━━━━━━━━━━━━━━━━━━━━━━━━━━━━━━━━━━\u001b[0m \u001b[32m322.6/322.6 kB\u001b[0m \u001b[31m15.8 MB/s\u001b[0m eta \u001b[36m0:00:00\u001b[0m\n",
            "\u001b[?25hDownloading ifcopenshell-0.8.2-py311-none-manylinux_2_31_x86_64.whl (40.8 MB)\n",
            "\u001b[2K   \u001b[90m━━━━━━━━━━━━━━━━━━━━━━━━━━━━━━━━━━━━━━━━\u001b[0m \u001b[32m40.8/40.8 MB\u001b[0m \u001b[31m14.4 MB/s\u001b[0m eta \u001b[36m0:00:00\u001b[0m\n",
            "\u001b[?25hDownloading aiofiles-24.1.0-py3-none-any.whl (15 kB)\n",
            "Downloading fastapi-0.115.12-py3-none-any.whl (95 kB)\n",
            "\u001b[2K   \u001b[90m━━━━━━━━━━━━━━━━━━━━━━━━━━━━━━━━━━━━━━━━\u001b[0m \u001b[32m95.2/95.2 kB\u001b[0m \u001b[31m3.0 MB/s\u001b[0m eta \u001b[36m0:00:00\u001b[0m\n",
            "\u001b[?25hDownloading groovy-0.1.2-py3-none-any.whl (14 kB)\n",
            "Downloading python_multipart-0.0.20-py3-none-any.whl (24 kB)\n",
            "Downloading ruff-0.11.6-py3-none-manylinux_2_17_x86_64.manylinux2014_x86_64.whl (11.5 MB)\n",
            "\u001b[2K   \u001b[90m━━━━━━━━━━━━━━━━━━━━━━━━━━━━━━━━━━━━━━━━\u001b[0m \u001b[32m11.5/11.5 MB\u001b[0m \u001b[31m55.5 MB/s\u001b[0m eta \u001b[36m0:00:00\u001b[0m\n",
            "\u001b[?25hDownloading safehttpx-0.1.6-py3-none-any.whl (8.7 kB)\n",
            "Downloading semantic_version-2.10.0-py2.py3-none-any.whl (15 kB)\n",
            "Downloading starlette-0.46.2-py3-none-any.whl (72 kB)\n",
            "\u001b[2K   \u001b[90m━━━━━━━━━━━━━━━━━━━━━━━━━━━━━━━━━━━━━━━━\u001b[0m \u001b[32m72.0/72.0 kB\u001b[0m \u001b[31m4.0 MB/s\u001b[0m eta \u001b[36m0:00:00\u001b[0m\n",
            "\u001b[?25hDownloading tomlkit-0.13.2-py3-none-any.whl (37 kB)\n",
            "Downloading uvicorn-0.34.2-py3-none-any.whl (62 kB)\n",
            "\u001b[2K   \u001b[90m━━━━━━━━━━━━━━━━━━━━━━━━━━━━━━━━━━━━━━━━\u001b[0m \u001b[32m62.5/62.5 kB\u001b[0m \u001b[31m3.6 MB/s\u001b[0m eta \u001b[36m0:00:00\u001b[0m\n",
            "\u001b[?25hDownloading ffmpy-0.5.0-py3-none-any.whl (6.0 kB)\n",
            "Downloading isodate-0.7.2-py3-none-any.whl (22 kB)\n",
            "Downloading lark-1.2.2-py3-none-any.whl (111 kB)\n",
            "\u001b[2K   \u001b[90m━━━━━━━━━━━━━━━━━━━━━━━━━━━━━━━━━━━━━━━━\u001b[0m \u001b[32m111.0/111.0 kB\u001b[0m \u001b[31m4.7 MB/s\u001b[0m eta \u001b[36m0:00:00\u001b[0m\n",
            "\u001b[?25hDownloading pydub-0.25.1-py2.py3-none-any.whl (32 kB)\n",
            "Installing collected packages: pydub, uvicorn, tomlkit, semantic-version, ruff, python-multipart, lark, isodate, groovy, ffmpy, aiofiles, starlette, ifcopenshell, safehttpx, gradio-client, fastapi, gradio\n",
            "Successfully installed aiofiles-24.1.0 fastapi-0.115.12 ffmpy-0.5.0 gradio-5.26.0 gradio-client-1.9.0 groovy-0.1.2 ifcopenshell-0.8.2 isodate-0.7.2 lark-1.2.2 pydub-0.25.1 python-multipart-0.0.20 ruff-0.11.6 safehttpx-0.1.6 semantic-version-2.10.0 starlette-0.46.2 tomlkit-0.13.2 uvicorn-0.34.2\n"
          ]
        }
      ],
      "source": [
        "!pip install gradio huggingface_hub ifcopenshell pandas"
      ]
    },
    {
      "cell_type": "markdown",
      "source": [
        "**Save dependencies to requirements.txt**"
      ],
      "metadata": {
        "id": "wM8OgLCtTAw5"
      }
    },
    {
      "cell_type": "code",
      "source": [
        "%%writefile requirements.txt\n",
        "gradio\n",
        "ifcopenshell\n",
        "pandas\n",
        "openpyxl"
      ],
      "metadata": {
        "colab": {
          "base_uri": "https://localhost:8080/"
        },
        "id": "GJNktJEjTGd-",
        "outputId": "bd42a913-cca5-474c-a737-8a62e7105b49",
        "collapsed": true
      },
      "execution_count": null,
      "outputs": [
        {
          "output_type": "stream",
          "name": "stdout",
          "text": [
            "Overwriting requirements.txt\n"
          ]
        }
      ]
    },
    {
      "cell_type": "markdown",
      "source": [
        "**Create App**"
      ],
      "metadata": {
        "id": "xCxHMSN9F5P6"
      }
    },
    {
      "cell_type": "code",
      "source": [
        "# comment the line below inorder to debug the app here in colab\n",
        "%%writefile app.py\n",
        "import gradio as gr\n",
        "import ifcopenshell\n",
        "import pandas as pd\n",
        "from tempfile import NamedTemporaryFile\n",
        "import os\n",
        "\n",
        "def extract_properties(ifc_file_path, element_class):\n",
        "    try:\n",
        "        model = ifcopenshell.open(ifc_file_path)\n",
        "\n",
        "        results = []\n",
        "        elements = model.by_type(\"IfcElement\")\n",
        "        # Get unique type names\n",
        "        element_types = sorted(list(set(elem.is_a() for elem in elements)))\n",
        "        classes_to_check = [element_class] if element_class != \"\" else sorted(list(set(obj.is_a() for obj in element_types)))\n",
        "\n",
        "        for class_name in classes_to_check:\n",
        "            elements = model.by_type(class_name)\n",
        "            for element in elements:\n",
        "                # Get all properties\n",
        "                properties = {}\n",
        "                for definition in element.IsDefinedBy:\n",
        "                    if definition.is_a(\"IfcRelDefinesByProperties\"):\n",
        "                        prop_set = definition.RelatingPropertyDefinition\n",
        "                        if prop_set.is_a(\"IfcPropertySet\"):\n",
        "                            for prop in prop_set.HasProperties:\n",
        "                                properties[f\"{prop_set.Name}.{prop.Name}\"] = prop.NominalValue.wrappedValue if prop.NominalValue else None\n",
        "\n",
        "                row = {\n",
        "                    \"GlobalId\": element.GlobalId,\n",
        "                    \"Type\": element.is_a(),\n",
        "                    \"Name\": element.Name,\n",
        "                    **properties\n",
        "                }\n",
        "                results.append(row)\n",
        "\n",
        "        if not results:\n",
        "            return pd.DataFrame({\"Message\": [f\"No {element_class if element_class != '' else ''} elements found\"]}), None, None\n",
        "\n",
        "        df = pd.DataFrame(results)\n",
        "        # Create temporary files for downloads\n",
        "        with NamedTemporaryFile(delete=False, suffix='.csv') as tmp_csv:\n",
        "            df.to_csv(tmp_csv.name, index=False)\n",
        "            csv_path = tmp_csv.name\n",
        "\n",
        "        with NamedTemporaryFile(delete=False, suffix='.xlsx') as tmp_excel:\n",
        "            df.to_excel(tmp_excel.name, index=False)\n",
        "            excel_path = tmp_excel.name\n",
        "\n",
        "        return df, csv_path, excel_path\n",
        "\n",
        "    except Exception as e:\n",
        "        return pd.DataFrame({\"Error\": [f\"Processing failed: {str(e)}\"]}), None, None\n",
        "\n",
        "def extract_ifc_types(ifc_file):\n",
        "    \"\"\"Extract all IFC types from uploaded file\"\"\"\n",
        "    if not ifc_file:\n",
        "        return []\n",
        "    try:\n",
        "        ifc = ifcopenshell.open(ifc_file.name)\n",
        "        # Get all elements that are IfcElement or its subtypes\n",
        "        elements = ifc.by_type(\"IfcElement\")\n",
        "        # Get unique type names\n",
        "        element_types = sorted(list(set(elem.is_a() for elem in elements)))\n",
        "        return element_types\n",
        "    except:\n",
        "        return []\n",
        "\n",
        "def update_dropdown(ifc_file):\n",
        "    \"\"\"Update dropdown options when file is uploaded\"\"\"\n",
        "    choices = extract_ifc_types(ifc_file)\n",
        "    return gr.Dropdown(choices=choices, value=\"\", interactive=True)\n",
        "\n",
        "# Gradio Interface\n",
        "with gr.Blocks(title=\"IFC Property Extractor\") as demo:\n",
        "    gr.Markdown(\"## 🛠️ IFC Property Extractor\")\n",
        "\n",
        "    with gr.Row():\n",
        "        ifc_input = gr.File(\n",
        "            label=\"1. Upload IFC File\",\n",
        "            file_types=[\".ifc\"],\n",
        "            type=\"filepath\"\n",
        "        )\n",
        "\n",
        "    with gr.Row():\n",
        "        with gr.Column():\n",
        "            class_filter = gr.Dropdown(\n",
        "                [\"\"],\n",
        "                value=\"\",\n",
        "                label=\"2. Filter by Class\",\n",
        "                interactive=False\n",
        "            )\n",
        "            extract_btn = gr.Button(\"Extract Properties\", variant=\"primary\")\n",
        "\n",
        "        with gr.Column():\n",
        "            csv_download = gr.File(label=\"Download CSV\", visible=False)\n",
        "            excel_download = gr.File(label=\"Download Excel\", visible=False)\n",
        "\n",
        "    output_table = gr.Dataframe(\n",
        "        label=\"Extracted Properties\",\n",
        "        interactive=True,\n",
        "        wrap=False,\n",
        "    )\n",
        "\n",
        "    # Update dropdown when file is uploaded\n",
        "    ifc_input.change(\n",
        "        fn=update_dropdown,\n",
        "        inputs=ifc_input,\n",
        "        outputs=[class_filter]\n",
        "    )\n",
        "\n",
        "    extract_btn.click(\n",
        "        fn=extract_properties,\n",
        "        inputs=[ifc_input, class_filter],\n",
        "        outputs=[output_table, csv_download, excel_download]\n",
        "    )\n",
        "\n",
        "    # Show download buttons only when files are available\n",
        "    extract_btn.click(\n",
        "        lambda: [gr.File(visible=True), gr.File(visible=True)],\n",
        "        outputs=[csv_download, excel_download]\n",
        "    )\n",
        "\n",
        "demo.launch()"
      ],
      "metadata": {
        "id": "lMlQ0wf6XdF9",
        "collapsed": true,
        "colab": {
          "base_uri": "https://localhost:8080/",
          "height": 646
        },
        "outputId": "234a12a5-c5df-44cd-88e2-a5e40e20d7c2"
      },
      "execution_count": 3,
      "outputs": [
        {
          "output_type": "stream",
          "name": "stdout",
          "text": [
            "It looks like you are running Gradio on a hosted a Jupyter notebook. For the Gradio app to work, sharing must be enabled. Automatically setting `share=True` (you can turn this off by setting `share=False` in `launch()` explicitly).\n",
            "\n",
            "Colab notebook detected. To show errors in colab notebook, set debug=True in launch()\n",
            "* Running on public URL: https://e4b52c4401bcb2a9a1.gradio.live\n",
            "\n",
            "This share link expires in 1 week. For free permanent hosting and GPU upgrades, run `gradio deploy` from the terminal in the working directory to deploy to Hugging Face Spaces (https://huggingface.co/spaces)\n"
          ]
        },
        {
          "output_type": "display_data",
          "data": {
            "text/plain": [
              "<IPython.core.display.HTML object>"
            ],
            "text/html": [
              "<div><iframe src=\"https://e4b52c4401bcb2a9a1.gradio.live\" width=\"100%\" height=\"500\" allow=\"autoplay; camera; microphone; clipboard-read; clipboard-write;\" frameborder=\"0\" allowfullscreen></iframe></div>"
            ]
          },
          "metadata": {}
        },
        {
          "output_type": "execute_result",
          "data": {
            "text/plain": []
          },
          "metadata": {},
          "execution_count": 3
        }
      ]
    },
    {
      "cell_type": "markdown",
      "source": [
        "**Deployment Code**"
      ],
      "metadata": {
        "id": "YvPcKi8k6oXp"
      }
    },
    {
      "cell_type": "code",
      "source": [
        "\n",
        "from huggingface_hub import HfApi, create_repo, upload_file\n",
        "import os\n",
        "\n",
        "os.environ[\"HF_TOKEN\"] = \"your_hugging_face_token\"\n",
        "api = HfApi(token=os.environ[\"HF_TOKEN\"])\n",
        "\n",
        "user_name = \"your_user_name\"\n",
        "space_name = \"your-space-name\"\n",
        "\n",
        "# Create a new Space (skip if already exists)\n",
        "try:\n",
        "    api.delete_repo(\n",
        "        repo_id=f\"{user_name}/{space_name}\",\n",
        "        repo_type=\"space\",\n",
        "        token=os.environ[\"HF_TOKEN\"]\n",
        "    )\n",
        "    print(\"Deleted existing Space successfully\")\n",
        "except Exception as delete_error:\n",
        "    print(f\"Delete failed (may not exist): {str(delete_error)}\")\n",
        "\n",
        "api.create_repo(\n",
        "    repo_id=f\"{user_name}/{space_name}\",\n",
        "    repo_type=\"space\",\n",
        "    space_sdk=\"gradio\",\n",
        "    private=False,\n",
        ")\n",
        "\n",
        "# Upload app.py and requirements.txt\n",
        "upload_file(\n",
        "    path_or_fileobj=\"app.py\",\n",
        "    path_in_repo=\"app.py\",\n",
        "    repo_id=f\"{user_name}/{space_name}\",\n",
        "    repo_type=\"space\",\n",
        "    token=os.environ[\"HF_TOKEN\"]\n",
        ")\n",
        "\n",
        "upload_file(\n",
        "    path_or_fileobj=\"requirements.txt\",\n",
        "    path_in_repo=\"requirements.txt\",\n",
        "    repo_id=f\"{user_name}/{space_name}\",\n",
        "    repo_type=\"space\",\n",
        "    token=os.environ[\"HF_TOKEN\"]\n",
        ")\n",
        "\n",
        "print(f\"Your app is live at: https://huggingface.co/spaces/{user_name}/{space_name}\")"
      ],
      "metadata": {
        "id": "fM_rzmn46uii"
      },
      "execution_count": null,
      "outputs": []
    }
  ]
}