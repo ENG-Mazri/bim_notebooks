{
  "nbformat": 4,
  "nbformat_minor": 0,
  "metadata": {
    "colab": {
      "provenance": []
    },
    "kernelspec": {
      "name": "python3",
      "display_name": "Python 3"
    },
    "language_info": {
      "name": "python"
    }
  },
  "cells": [
    {
      "cell_type": "markdown",
      "source": [
        "#🛠️ IFC Property Extractor"
      ],
      "metadata": {
        "id": "vaRgm77CQg9o"
      }
    },
    {
      "cell_type": "markdown",
      "source": [
        "**Install dependencies**\n"
      ],
      "metadata": {
        "id": "B2niG_sPFgMK"
      }
    },
    {
      "cell_type": "code",
      "execution_count": null,
      "metadata": {
        "collapsed": true,
        "id": "EotXrCyCE8WO"
      },
      "outputs": [],
      "source": [
        "!pip install gradio huggingface_hub ifcopenshell pandas"
      ]
    },
    {
      "cell_type": "markdown",
      "source": [
        "**Save dependencies to requirements.txt**"
      ],
      "metadata": {
        "id": "wM8OgLCtTAw5"
      }
    },
    {
      "cell_type": "code",
      "source": [
        "%%writefile requirements.txt\n",
        "gradio\n",
        "ifcopenshell\n",
        "pandas\n",
        "openpyxl"
      ],
      "metadata": {
        "id": "GJNktJEjTGd-",
        "collapsed": true
      },
      "execution_count": null,
      "outputs": []
    },
    {
      "cell_type": "markdown",
      "source": [
        "**Create App**"
      ],
      "metadata": {
        "id": "xCxHMSN9F5P6"
      }
    },
    {
      "cell_type": "code",
      "source": [
        "# comment the line below inorder to debug the app here in colab\n",
        "%%writefile app.py\n",
        "import gradio as gr\n",
        "import ifcopenshell\n",
        "import pandas as pd\n",
        "from tempfile import NamedTemporaryFile\n",
        "import os\n",
        "\n",
        "def extract_properties(ifc_file_path, element_class):\n",
        "    try:\n",
        "        model = ifcopenshell.open(ifc_file_path)\n",
        "\n",
        "        results = []\n",
        "        elements = model.by_type(\"IfcElement\")\n",
        "        # Get unique type names\n",
        "        element_types = sorted(list(set(elem.is_a() for elem in elements)))\n",
        "        classes_to_check = [element_class] if element_class != \"\" else sorted(list(set(obj.is_a() for obj in element_types)))\n",
        "\n",
        "        for class_name in classes_to_check:\n",
        "            elements = model.by_type(class_name)\n",
        "            for element in elements:\n",
        "                # Get all properties\n",
        "                properties = {}\n",
        "                for definition in element.IsDefinedBy:\n",
        "                    if definition.is_a(\"IfcRelDefinesByProperties\"):\n",
        "                        prop_set = definition.RelatingPropertyDefinition\n",
        "                        if prop_set.is_a(\"IfcPropertySet\"):\n",
        "                            for prop in prop_set.HasProperties:\n",
        "                                properties[f\"{prop_set.Name}.{prop.Name}\"] = prop.NominalValue.wrappedValue if prop.NominalValue else None\n",
        "\n",
        "                row = {\n",
        "                    \"GlobalId\": element.GlobalId,\n",
        "                    \"Type\": element.is_a(),\n",
        "                    \"Name\": element.Name,\n",
        "                    **properties\n",
        "                }\n",
        "                results.append(row)\n",
        "\n",
        "        if not results:\n",
        "            return pd.DataFrame({\"Message\": [f\"No {element_class if element_class != '' else ''} elements found\"]}), None, None\n",
        "\n",
        "        df = pd.DataFrame(results)\n",
        "        # Create temporary files for downloads\n",
        "        with NamedTemporaryFile(delete=False, suffix='.csv') as tmp_csv:\n",
        "            df.to_csv(tmp_csv.name, index=False)\n",
        "            csv_path = tmp_csv.name\n",
        "\n",
        "        with NamedTemporaryFile(delete=False, suffix='.xlsx') as tmp_excel:\n",
        "            df.to_excel(tmp_excel.name, index=False)\n",
        "            excel_path = tmp_excel.name\n",
        "\n",
        "        return df, csv_path, excel_path\n",
        "\n",
        "    except Exception as e:\n",
        "        return pd.DataFrame({\"Error\": [f\"Processing failed: {str(e)}\"]}), None, None\n",
        "\n",
        "def extract_ifc_types(ifc_file):\n",
        "    \"\"\"Extract all IFC types from uploaded file\"\"\"\n",
        "    if not ifc_file:\n",
        "        return []\n",
        "    try:\n",
        "        ifc = ifcopenshell.open(ifc_file.name)\n",
        "        # Get all elements that are IfcElement or its subtypes\n",
        "        elements = ifc.by_type(\"IfcElement\")\n",
        "        # Get unique type names\n",
        "        element_types = sorted(list(set(elem.is_a() for elem in elements)))\n",
        "        return element_types\n",
        "    except:\n",
        "        return []\n",
        "\n",
        "def update_dropdown(ifc_file):\n",
        "    \"\"\"Update dropdown options when file is uploaded\"\"\"\n",
        "    choices = extract_ifc_types(ifc_file)\n",
        "    return gr.Dropdown(choices=choices, value=\"\", interactive=True)\n",
        "\n",
        "# Gradio Interface\n",
        "with gr.Blocks(title=\"IFC Property Extractor\") as demo:\n",
        "    gr.Markdown(\"## 🛠️ IFC Property Extractor\")\n",
        "\n",
        "    with gr.Row():\n",
        "        ifc_input = gr.File(\n",
        "            label=\"1. Upload IFC File\",\n",
        "            file_types=[\".ifc\"],\n",
        "            type=\"filepath\"\n",
        "        )\n",
        "\n",
        "    with gr.Row():\n",
        "        with gr.Column():\n",
        "            class_filter = gr.Dropdown(\n",
        "                [\"\"],\n",
        "                value=\"\",\n",
        "                label=\"2. Filter by Class\",\n",
        "                interactive=False\n",
        "            )\n",
        "            extract_btn = gr.Button(\"Extract Properties\", variant=\"primary\")\n",
        "\n",
        "        with gr.Column():\n",
        "            csv_download = gr.File(label=\"Download CSV\", visible=False)\n",
        "            excel_download = gr.File(label=\"Download Excel\", visible=False)\n",
        "\n",
        "    output_table = gr.Dataframe(\n",
        "        label=\"Extracted Properties\",\n",
        "        interactive=True,\n",
        "        wrap=False,\n",
        "    )\n",
        "\n",
        "    # Update dropdown when file is uploaded\n",
        "    ifc_input.change(\n",
        "        fn=update_dropdown,\n",
        "        inputs=ifc_input,\n",
        "        outputs=[class_filter]\n",
        "    )\n",
        "\n",
        "    extract_btn.click(\n",
        "        fn=extract_properties,\n",
        "        inputs=[ifc_input, class_filter],\n",
        "        outputs=[output_table, csv_download, excel_download]\n",
        "    )\n",
        "\n",
        "    # Show download buttons only when files are available\n",
        "    extract_btn.click(\n",
        "        lambda: [gr.File(visible=True), gr.File(visible=True)],\n",
        "        outputs=[csv_download, excel_download]\n",
        "    )\n",
        "\n",
        "demo.launch()"
      ],
      "metadata": {
        "id": "lMlQ0wf6XdF9",
        "collapsed": true
      },
      "execution_count": null,
      "outputs": []
    },
    {
      "cell_type": "markdown",
      "source": [
        "**Deployment Code**"
      ],
      "metadata": {
        "id": "YvPcKi8k6oXp"
      }
    },
    {
      "cell_type": "code",
      "source": [
        "\n",
        "from huggingface_hub import HfApi, create_repo, upload_file\n",
        "import os\n",
        "\n",
        "os.environ[\"HF_TOKEN\"] = \"your_hugging_face_token\"\n",
        "api = HfApi(token=os.environ[\"HF_TOKEN\"])\n",
        "\n",
        "user_name = \"your_user_name\"\n",
        "space_name = \"your-space-name\"\n",
        "\n",
        "# Create a new Space (skip if already exists)\n",
        "try:\n",
        "    api.delete_repo(\n",
        "        repo_id=f\"{user_name}/{space_name}\",\n",
        "        repo_type=\"space\",\n",
        "        token=os.environ[\"HF_TOKEN\"]\n",
        "    )\n",
        "    print(\"Deleted existing Space successfully\")\n",
        "except Exception as delete_error:\n",
        "    print(f\"Delete failed (may not exist): {str(delete_error)}\")\n",
        "\n",
        "api.create_repo(\n",
        "    repo_id=f\"{user_name}/{space_name}\",\n",
        "    repo_type=\"space\",\n",
        "    space_sdk=\"gradio\",\n",
        "    private=False,\n",
        ")\n",
        "\n",
        "# Upload app.py and requirements.txt\n",
        "upload_file(\n",
        "    path_or_fileobj=\"app.py\",\n",
        "    path_in_repo=\"app.py\",\n",
        "    repo_id=f\"{user_name}/{space_name}\",\n",
        "    repo_type=\"space\",\n",
        "    token=os.environ[\"HF_TOKEN\"]\n",
        ")\n",
        "\n",
        "upload_file(\n",
        "    path_or_fileobj=\"requirements.txt\",\n",
        "    path_in_repo=\"requirements.txt\",\n",
        "    repo_id=f\"{user_name}/{space_name}\",\n",
        "    repo_type=\"space\",\n",
        "    token=os.environ[\"HF_TOKEN\"]\n",
        ")\n",
        "\n",
        "print(f\"Your app is live at: https://huggingface.co/spaces/{user_name}/{space_name}\")"
      ],
      "metadata": {
        "id": "fM_rzmn46uii"
      },
      "execution_count": null,
      "outputs": []
    }
  ]
}